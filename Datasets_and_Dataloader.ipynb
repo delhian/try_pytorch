{
  "nbformat": 4,
  "nbformat_minor": 0,
  "metadata": {
    "colab": {
      "name": "Datasets_and_Dataloader.ipynb",
      "provenance": [],
      "authorship_tag": "ABX9TyMGqL4UKQBRcWgBpuMs81Fr",
      "include_colab_link": true
    },
    "kernelspec": {
      "name": "python3",
      "display_name": "Python 3"
    },
    "language_info": {
      "name": "python"
    }
  },
  "cells": [
    {
      "cell_type": "markdown",
      "metadata": {
        "id": "view-in-github",
        "colab_type": "text"
      },
      "source": [
        "<a href=\"https://colab.research.google.com/github/delhian/try_pytorch/blob/main/Datasets_and_Dataloader.ipynb\" target=\"_parent\"><img src=\"https://colab.research.google.com/assets/colab-badge.svg\" alt=\"Open In Colab\"/></a>"
      ]
    },
    {
      "cell_type": "code",
      "metadata": {
        "id": "LmhYOFrHt3sC"
      },
      "source": [
        "import torch\n",
        "from torch.utils.data import Dataset, DataLoader\n",
        "import numpy\n",
        "import math\n",
        "from torchvision.transforms import Compose\n",
        "from sklearn.datasets import make_classification"
      ],
      "execution_count": 51,
      "outputs": []
    },
    {
      "cell_type": "code",
      "metadata": {
        "id": "zNormmbRs5jp"
      },
      "source": [
        "class ClassificationData (Dataset):\n",
        "  def __init__(self,\n",
        "               n_samples,\n",
        "               n_features,\n",
        "               n_classes,\n",
        "               n_informative,\n",
        "               transform = None):\n",
        "    # dataloading\n",
        "    x, y = make_classification(n_samples = n_samples,\n",
        "                               n_features = n_features,\n",
        "                               n_classes = n_classes,\n",
        "                               n_informative = n_informative)\n",
        "    self.x = x\n",
        "    self.y = y\n",
        "    self.n_samples = x.shape[0]\n",
        "    self.transform = transform\n",
        "  \n",
        "  def __getitem__(self, index):\n",
        "    # dataset(index)\n",
        "    x_i, y_i = self.x[index], self.y[index]\n",
        "    if self.transform:\n",
        "      x_i = self.transform(x_i)\n",
        "    return x_i, y_i\n",
        "\n",
        "  def __len__(self):\n",
        "    # len(dataset)\n",
        "    return self.n_samples\n",
        "\n",
        "class ToTensor():\n",
        "  def __call__(self, x_i):\n",
        "    return torch.FloatTensor(x_i)\n",
        "\n",
        "class Top_k ():\n",
        "  def __init__(self, k):\n",
        "    self.k = k\n",
        "  def __call__(self, x_i):\n",
        "    return torch.topk(x_i, self.k).values"
      ],
      "execution_count": 65,
      "outputs": []
    },
    {
      "cell_type": "code",
      "metadata": {
        "id": "U2RQkXGnFHov"
      },
      "source": [
        "transform = Compose([ToTensor(), Top_k(50)])\n",
        "dataset = ClassificationData(100000, 300, 10, 5, transform = transform)"
      ],
      "execution_count": 68,
      "outputs": []
    },
    {
      "cell_type": "code",
      "metadata": {
        "id": "I6UwRUFYFjJL",
        "outputId": "6e58a567-4c02-4d89-b07f-87e1349579b6",
        "colab": {
          "base_uri": "https://localhost:8080/"
        }
      },
      "source": [
        "dataset[6]"
      ],
      "execution_count": 69,
      "outputs": [
        {
          "output_type": "execute_result",
          "data": {
            "text/plain": [
              "(tensor([2.7471, 2.7393, 2.7141, 2.6792, 2.4807, 2.0415, 2.0274, 2.0141, 2.0040,\n",
              "         1.9358, 1.9205, 1.8608, 1.8330, 1.7576, 1.6857, 1.6715, 1.6195, 1.6053,\n",
              "         1.5757, 1.5750, 1.5559, 1.5302, 1.5133, 1.5108, 1.4322, 1.4261, 1.4106,\n",
              "         1.3775, 1.3640, 1.3575, 1.3443, 1.3313, 1.3081, 1.2857, 1.2725, 1.2693,\n",
              "         1.2507, 1.2035, 1.2016, 1.1839, 1.1585, 1.1512, 1.1416, 1.1176, 1.1140,\n",
              "         1.0985, 1.0957, 1.0758, 1.0728, 1.0508]), 3)"
            ]
          },
          "metadata": {},
          "execution_count": 69
        }
      ]
    },
    {
      "cell_type": "code",
      "metadata": {
        "id": "CKjyCIPh0BS0"
      },
      "source": [
        "batch_size = 70\n",
        "epoches = 3\n",
        "n_iterations = math.ceil(len(dataset)/ batch_size)\n",
        "dataloader = DataLoader(dataset = dataset, batch_size= batch_size, shuffle = True, num_workers = 2)"
      ],
      "execution_count": 70,
      "outputs": []
    },
    {
      "cell_type": "code",
      "metadata": {
        "colab": {
          "base_uri": "https://localhost:8080/"
        },
        "id": "XVONICcK18aa",
        "outputId": "69d722b8-38e9-4beb-ce83-d8aa645c2460"
      },
      "source": [
        "for epoch in range(epoches):\n",
        "  print(f'epoch: {epoch + 1} of {epoches}')\n",
        "  for step, (inputs, labels) in enumerate(dataloader):\n",
        "    if (step + 1) % 100 == 0 or step + 1 == n_iterations:\n",
        "      print(f'step: {step + 1} of {n_iterations}, batch shape:{inputs.shape[0], inputs.shape[1]}' )"
      ],
      "execution_count": 71,
      "outputs": [
        {
          "output_type": "stream",
          "name": "stdout",
          "text": [
            "epoch: 1 of 3\n",
            "step: 100 of 1429, batch shape:(70, 50)\n",
            "step: 200 of 1429, batch shape:(70, 50)\n",
            "step: 300 of 1429, batch shape:(70, 50)\n",
            "step: 400 of 1429, batch shape:(70, 50)\n",
            "step: 500 of 1429, batch shape:(70, 50)\n",
            "step: 600 of 1429, batch shape:(70, 50)\n",
            "step: 700 of 1429, batch shape:(70, 50)\n",
            "step: 800 of 1429, batch shape:(70, 50)\n",
            "step: 900 of 1429, batch shape:(70, 50)\n",
            "step: 1000 of 1429, batch shape:(70, 50)\n",
            "step: 1100 of 1429, batch shape:(70, 50)\n",
            "step: 1200 of 1429, batch shape:(70, 50)\n",
            "step: 1300 of 1429, batch shape:(70, 50)\n",
            "step: 1400 of 1429, batch shape:(70, 50)\n",
            "step: 1429 of 1429, batch shape:(40, 50)\n",
            "epoch: 2 of 3\n",
            "step: 100 of 1429, batch shape:(70, 50)\n",
            "step: 200 of 1429, batch shape:(70, 50)\n",
            "step: 300 of 1429, batch shape:(70, 50)\n",
            "step: 400 of 1429, batch shape:(70, 50)\n",
            "step: 500 of 1429, batch shape:(70, 50)\n",
            "step: 600 of 1429, batch shape:(70, 50)\n",
            "step: 700 of 1429, batch shape:(70, 50)\n",
            "step: 800 of 1429, batch shape:(70, 50)\n",
            "step: 900 of 1429, batch shape:(70, 50)\n",
            "step: 1000 of 1429, batch shape:(70, 50)\n",
            "step: 1100 of 1429, batch shape:(70, 50)\n",
            "step: 1200 of 1429, batch shape:(70, 50)\n",
            "step: 1300 of 1429, batch shape:(70, 50)\n",
            "step: 1400 of 1429, batch shape:(70, 50)\n",
            "step: 1429 of 1429, batch shape:(40, 50)\n",
            "epoch: 3 of 3\n",
            "step: 100 of 1429, batch shape:(70, 50)\n",
            "step: 200 of 1429, batch shape:(70, 50)\n",
            "step: 300 of 1429, batch shape:(70, 50)\n",
            "step: 400 of 1429, batch shape:(70, 50)\n",
            "step: 500 of 1429, batch shape:(70, 50)\n",
            "step: 600 of 1429, batch shape:(70, 50)\n",
            "step: 700 of 1429, batch shape:(70, 50)\n",
            "step: 800 of 1429, batch shape:(70, 50)\n",
            "step: 900 of 1429, batch shape:(70, 50)\n",
            "step: 1000 of 1429, batch shape:(70, 50)\n",
            "step: 1100 of 1429, batch shape:(70, 50)\n",
            "step: 1200 of 1429, batch shape:(70, 50)\n",
            "step: 1300 of 1429, batch shape:(70, 50)\n",
            "step: 1400 of 1429, batch shape:(70, 50)\n",
            "step: 1429 of 1429, batch shape:(40, 50)\n"
          ]
        }
      ]
    },
    {
      "cell_type": "code",
      "metadata": {
        "id": "RmzFLs0i6EDC"
      },
      "source": [
        ""
      ],
      "execution_count": 71,
      "outputs": []
    }
  ]
}