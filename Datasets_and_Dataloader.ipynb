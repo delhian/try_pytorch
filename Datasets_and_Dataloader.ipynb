{
  "nbformat": 4,
  "nbformat_minor": 0,
  "metadata": {
    "colab": {
      "name": "Datasets_and_Dataloader.ipynb",
      "provenance": [],
      "authorship_tag": "ABX9TyMvudsmpIUeT7VuwFWL0ygW",
      "include_colab_link": true
    },
    "kernelspec": {
      "name": "python3",
      "display_name": "Python 3"
    },
    "language_info": {
      "name": "python"
    }
  },
  "cells": [
    {
      "cell_type": "markdown",
      "metadata": {
        "id": "view-in-github",
        "colab_type": "text"
      },
      "source": [
        "<a href=\"https://colab.research.google.com/github/delhian/try_pytorch/blob/main/Datasets_and_Dataloader.ipynb\" target=\"_parent\"><img src=\"https://colab.research.google.com/assets/colab-badge.svg\" alt=\"Open In Colab\"/></a>"
      ]
    },
    {
      "cell_type": "code",
      "metadata": {
        "id": "LmhYOFrHt3sC"
      },
      "source": [
        "import torch\n",
        "from torch.utils.data import Dataset, DataLoader\n",
        "import numpy\n",
        "import math\n",
        "import torchvision\n",
        "from sklearn.datasets import make_classification"
      ],
      "execution_count": 41,
      "outputs": []
    },
    {
      "cell_type": "code",
      "metadata": {
        "id": "zNormmbRs5jp"
      },
      "source": [
        "class ClassificationData (Dataset):\n",
        "  def __init__(self,\n",
        "               n_samples,\n",
        "               n_features,\n",
        "               n_classes,\n",
        "               n_informative):\n",
        "    # dataloading\n",
        "    x, y = make_classification(n_samples = n_samples,\n",
        "                               n_features = n_features,\n",
        "                               n_classes = n_classes,\n",
        "                               n_informative = n_informative)\n",
        "    self.x = torch.FloatTensor(x)\n",
        "    self.y = torch.FloatTensor(y)\n",
        "    self.n_samples = x.shape[0]\n",
        "  \n",
        "  def __getitem__(self, index):\n",
        "    # dataset(index)\n",
        "    return self.x[index], self.y[index]\n",
        "\n",
        "  def __len__(self):\n",
        "    # len(dataset)\n",
        "    return self.n_samples"
      ],
      "execution_count": 42,
      "outputs": []
    },
    {
      "cell_type": "code",
      "metadata": {
        "id": "U2RQkXGnFHov"
      },
      "source": [
        "dataset = ClassificationData(100000, 30, 10, 5)"
      ],
      "execution_count": 43,
      "outputs": []
    },
    {
      "cell_type": "code",
      "metadata": {
        "id": "CKjyCIPh0BS0"
      },
      "source": [
        "batch_size = 100\n",
        "epoches = 3\n",
        "n_iterations = math.ceil(len(dataset)/ batch_size)\n",
        "dataloader = DataLoader(dataset = dataset, batch_size= batch_size, shuffle = True, num_workers = 2)"
      ],
      "execution_count": 44,
      "outputs": []
    },
    {
      "cell_type": "code",
      "metadata": {
        "colab": {
          "base_uri": "https://localhost:8080/"
        },
        "id": "XVONICcK18aa",
        "outputId": "505fa912-1049-4c3e-a538-9fa13eab2b02"
      },
      "source": [
        "for epoch in range(epoches):\n",
        "  print(f'epoch: {epoch + 1} of {epoches}')\n",
        "  for step, (inputs, labels) in enumerate(dataloader):\n",
        "    if (step + 1) % 100 == 0:\n",
        "      print(f'step: {step + 1} of {n_iterations}, batch shape:{inputs.shape[0], inputs.shape[1]}' )"
      ],
      "execution_count": 51,
      "outputs": [
        {
          "output_type": "stream",
          "name": "stdout",
          "text": [
            "epoch: 1 of 3\n",
            "step: 100 of 1000, batch shape:(100, 30)\n",
            "step: 200 of 1000, batch shape:(100, 30)\n",
            "step: 300 of 1000, batch shape:(100, 30)\n",
            "step: 400 of 1000, batch shape:(100, 30)\n",
            "step: 500 of 1000, batch shape:(100, 30)\n",
            "step: 600 of 1000, batch shape:(100, 30)\n",
            "step: 700 of 1000, batch shape:(100, 30)\n",
            "step: 800 of 1000, batch shape:(100, 30)\n",
            "step: 900 of 1000, batch shape:(100, 30)\n",
            "step: 1000 of 1000, batch shape:(100, 30)\n",
            "epoch: 2 of 3\n",
            "step: 100 of 1000, batch shape:(100, 30)\n",
            "step: 200 of 1000, batch shape:(100, 30)\n",
            "step: 300 of 1000, batch shape:(100, 30)\n",
            "step: 400 of 1000, batch shape:(100, 30)\n",
            "step: 500 of 1000, batch shape:(100, 30)\n",
            "step: 600 of 1000, batch shape:(100, 30)\n",
            "step: 700 of 1000, batch shape:(100, 30)\n",
            "step: 800 of 1000, batch shape:(100, 30)\n",
            "step: 900 of 1000, batch shape:(100, 30)\n",
            "step: 1000 of 1000, batch shape:(100, 30)\n",
            "epoch: 3 of 3\n",
            "step: 100 of 1000, batch shape:(100, 30)\n",
            "step: 200 of 1000, batch shape:(100, 30)\n",
            "step: 300 of 1000, batch shape:(100, 30)\n",
            "step: 400 of 1000, batch shape:(100, 30)\n",
            "step: 500 of 1000, batch shape:(100, 30)\n",
            "step: 600 of 1000, batch shape:(100, 30)\n",
            "step: 700 of 1000, batch shape:(100, 30)\n",
            "step: 800 of 1000, batch shape:(100, 30)\n",
            "step: 900 of 1000, batch shape:(100, 30)\n",
            "step: 1000 of 1000, batch shape:(100, 30)\n"
          ]
        }
      ]
    },
    {
      "cell_type": "code",
      "metadata": {
        "id": "RmzFLs0i6EDC"
      },
      "source": [
        ""
      ],
      "execution_count": 45,
      "outputs": []
    }
  ]
}