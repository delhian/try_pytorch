{
  "nbformat": 4,
  "nbformat_minor": 0,
  "metadata": {
    "colab": {
      "name": "FeedForwardvsConv2D_MNIST.ipynb",
      "provenance": [],
      "authorship_tag": "ABX9TyMduZ51evn3yeWLvP7oalG0",
      "include_colab_link": true
    },
    "kernelspec": {
      "name": "python3",
      "display_name": "Python 3"
    },
    "language_info": {
      "name": "python"
    },
    "accelerator": "GPU"
  },
  "cells": [
    {
      "cell_type": "markdown",
      "metadata": {
        "id": "view-in-github",
        "colab_type": "text"
      },
      "source": [
        "<a href=\"https://colab.research.google.com/github/delhian/try_pytorch/blob/main/FeedForwardvsConv2D_MNIST.ipynb\" target=\"_parent\"><img src=\"https://colab.research.google.com/assets/colab-badge.svg\" alt=\"Open In Colab\"/></a>"
      ]
    },
    {
      "cell_type": "markdown",
      "metadata": {
        "id": "ITFxmm41aRDp"
      },
      "source": [
        "1) Disign model (input, output size,)\n",
        "\n",
        "2) Construct loss and optimizer\n",
        "\n",
        "3) Training loop\n",
        "\n",
        "-- forward pass: compute prediction and loss\n",
        "\n",
        "-- backward pass: calculate gradients\n",
        "\n",
        "-- update weights"
      ]
    },
    {
      "cell_type": "code",
      "metadata": {
        "id": "LmhYOFrHt3sC"
      },
      "source": [
        "import torch\n",
        "import torch.nn as nn\n",
        "import torchvision\n",
        "import torchvision.transforms as transforms\n",
        "import matplotlib.pyplot as plt"
      ],
      "execution_count": 113,
      "outputs": []
    },
    {
      "cell_type": "code",
      "metadata": {
        "id": "gWx1Djice_DV",
        "colab": {
          "base_uri": "https://localhost:8080/"
        },
        "outputId": "3d03b174-6df6-4aec-d558-4e43d8b26e1f"
      },
      "source": [
        "device = torch.device('cuda' if torch.cuda.is_available()  else 'cpu')\n",
        "device"
      ],
      "execution_count": 114,
      "outputs": [
        {
          "output_type": "execute_result",
          "data": {
            "text/plain": [
              "device(type='cuda')"
            ]
          },
          "metadata": {},
          "execution_count": 114
        }
      ]
    },
    {
      "cell_type": "code",
      "metadata": {
        "id": "UmiiM8FcbMCt"
      },
      "source": [
        "# MNIST\n",
        "train_dataset = torchvision.datasets.MNIST(root = './data', \n",
        "                                           transform = transforms.ToTensor(),\n",
        "                                           train = True, \n",
        "                                           download = True)\n",
        "\n",
        "test_dataset = torchvision.datasets.MNIST(root = './data', \n",
        "                                           transform = transforms.ToTensor(),\n",
        "                                           train = False)"
      ],
      "execution_count": 115,
      "outputs": []
    },
    {
      "cell_type": "code",
      "metadata": {
        "id": "3zRpRsYzmkoF"
      },
      "source": [
        "train_loader = torch.utils.data.DataLoader(dataset = train_dataset, batch_size = 50, shuffle = True, )\n",
        "test_loader = torch.utils.data.DataLoader(dataset = test_dataset, batch_size = 50)"
      ],
      "execution_count": 116,
      "outputs": []
    },
    {
      "cell_type": "code",
      "metadata": {
        "colab": {
          "base_uri": "https://localhost:8080/"
        },
        "id": "bwxwbbu1mnLg",
        "outputId": "7d6aac5b-8914-451f-e973-5a4512db5b89"
      },
      "source": [
        "example = iter(train_loader)\n",
        "samples, labels = example.next()\n",
        "\n",
        "print(samples.shape, labels.shape)"
      ],
      "execution_count": 117,
      "outputs": [
        {
          "output_type": "stream",
          "name": "stdout",
          "text": [
            "torch.Size([50, 1, 28, 28]) torch.Size([50])\n"
          ]
        }
      ]
    },
    {
      "cell_type": "code",
      "metadata": {
        "id": "XnlNg5MTbgUS",
        "colab": {
          "base_uri": "https://localhost:8080/",
          "height": 267
        },
        "outputId": "c9ac74c4-3dc4-4a6f-bb2e-e6d82dd314f3"
      },
      "source": [
        "for i in range(6):\n",
        "  plt.subplot(2, 3, i + 1)\n",
        "  plt.imshow(samples[i][0])\n",
        "plt.show()"
      ],
      "execution_count": 118,
      "outputs": [
        {
          "output_type": "display_data",
          "data": {
            "image/png": "[encoded data removed]",
            "text/plain": [
              "<Figure size 432x288 with 6 Axes>"
            ]
          },
          "metadata": {
            "needs_background": "light"
          }
        }
      ]
    },
    {
      "cell_type": "code",
      "metadata": {
        "id": "-_RShJkVeNPz"
      },
      "source": [
        "class FeedForward(nn.Module):\n",
        "  def __init__(self, input_size, hidden_size, n_classes):\n",
        "    super().__init__()\n",
        "    self.linear1 = nn.Linear(input_size, hidden_size)\n",
        "    self.relu = nn.ReLU()\n",
        "    self.linear2 = nn.Linear(hidden_size, n_classes)\n",
        "  def forward(self, x):\n",
        "    out = self.linear1(x)\n",
        "    out = self.relu(out)\n",
        "    out = self.linear2(out)\n",
        "    return out\n",
        "\n",
        "input_size = 28 * 28\n",
        "hidden_size = 100\n",
        "n_classes = 10\n",
        "\n",
        "model = FeedForward(input_size, hidden_size, n_classes)\n",
        "model = model.to(device)\n",
        "loss = nn.CrossEntropyLoss()\n",
        "learning_rate = 0.001\n",
        "optimizer = torch.optim.Adam(model.parameters(), lr = learning_rate)"
      ],
      "execution_count": 119,
      "outputs": []
    },
    {
      "cell_type": "code",
      "metadata": {
        "colab": {
          "base_uri": "https://localhost:8080/"
        },
        "id": "jjoFTpNXwJpO",
        "outputId": "7b45aedd-e5f0-46c9-a47f-e200745db7a0"
      },
      "source": [
        "epoches = 10\n",
        "for epoch in range(epoches):\n",
        "  for i, (image, label) in enumerate(train_loader):\n",
        "    image = image.reshape(-1, input_size).to(device)\n",
        "    label = label.to(device)\n",
        "    outputs = model(image)\n",
        "    l = loss(outputs, label)\n",
        "    optimizer.zero_grad()\n",
        "    l.backward()\n",
        "    optimizer.step()\n",
        "  print(f'epoch:{epoch + 1} loss: {l:.8f}')"
      ],
      "execution_count": 120,
      "outputs": [
        {
          "output_type": "stream",
          "name": "stdout",
          "text": [
            "epoch:1 loss: 0.18289673\n",
            "epoch:2 loss: 0.08233259\n",
            "epoch:3 loss: 0.11911218\n",
            "epoch:4 loss: 0.11969343\n",
            "epoch:5 loss: 0.19842604\n",
            "epoch:6 loss: 0.05601371\n",
            "epoch:7 loss: 0.03958446\n",
            "epoch:8 loss: 0.04336626\n",
            "epoch:9 loss: 0.01740522\n",
            "epoch:10 loss: 0.00708418\n"
          ]
        }
      ]
    },
    {
      "cell_type": "code",
      "metadata": {
        "colab": {
          "base_uri": "https://localhost:8080/"
        },
        "id": "A1f3MIse1DLY",
        "outputId": "b622ccae-266f-405c-97bb-17ba1a099fbe"
      },
      "source": [
        "def accuracy(dataloader: torch.utils.data.dataloader.DataLoader):\n",
        "  correct, all = 0, 0\n",
        "  with torch.no_grad():\n",
        "    for image, label in dataloader:\n",
        "      label = label.to(device)\n",
        "      image = image.to(device)\n",
        "      image = image.reshape(-1, input_size)\n",
        "      y_predicted = model(image)\n",
        "      y_predicted = torch.argmax(y_predicted, dim=1)\n",
        "      all += label.shape[0]\n",
        "      correct += torch.sum(y_predicted == label).item()\n",
        "  return correct/all\n",
        "\n",
        "print(f'train accuracy: {accuracy(train_loader)}')\n",
        "print(f'train accuracy: {accuracy(test_loader)}')"
      ],
      "execution_count": 121,
      "outputs": [
        {
          "output_type": "stream",
          "name": "stdout",
          "text": [
            "train accuracy: 0.9950666666666667\n",
            "train accuracy: 0.9761\n"
          ]
        }
      ]
    },
    {
      "cell_type": "code",
      "metadata": {
        "id": "zXbqjOq615bb"
      },
      "source": [
        "class Conv2D(nn.Module):\n",
        "  def __init__(self, input_size, hidden_size, n_classes):\n",
        "    super().__init__()\n",
        "    self.conv1 = nn.Conv2d(3, 6, 5)\n",
        "    self.pool = nn.MaxPool2d(2, 2)\n",
        "    self.conv2 = nn.Conv2d(6, 16, 5)\n",
        "    self.linear1 = nn.Linear(16*5*5, 120)\n",
        "    self.linear2 = nn.Linear(120, 84)\n",
        "    self.linear3 = nn.Linear(84, 10)\n",
        "  def forward(self, x):\n",
        "    out = self.conv1(x)\n",
        "    out = self.nn.MaxPool2d(out)\n",
        "    out = self.conv2(out)\n",
        "    out = out.view(-1, 16*5*5)\n",
        "    out = self.linear1(out)\n",
        "    out = F.ReLU(out)\n",
        "    out = self.linear2(out)\n",
        "    out = F.ReLU(out)\n",
        "    out = self.linear3(out)\n",
        "    return out\n",
        "\n",
        "input_size = 28 * 28\n",
        "hidden_size = 100\n",
        "n_classes = 10\n",
        "\n",
        "model = FeedForward(input_size, hidden_size, n_classes)\n",
        "model = model.to(device)\n",
        "loss = nn.CrossEntropyLoss()\n",
        "learning_rate = 0.001\n",
        "optimizer = torch.optim.Adam(model.parameters(), lr = learning_rate)"
      ],
      "execution_count": 122,
      "outputs": []
    },
    {
      "cell_type": "code",
      "metadata": {
        "colab": {
          "base_uri": "https://localhost:8080/"
        },
        "id": "mexVntOn4hp2",
        "outputId": "1d49cef0-e1d0-4f9a-da25-54196b29af8e"
      },
      "source": [
        "epoches = 10\n",
        "for epoch in range(epoches):\n",
        "  for i, (image, label) in enumerate(train_loader):\n",
        "    image = image.reshape(-1, input_size).to(device)\n",
        "    label = label.to(device)\n",
        "    outputs = model(image)\n",
        "    l = loss(outputs, label)\n",
        "    optimizer.zero_grad()\n",
        "    l.backward()\n",
        "    optimizer.step()\n",
        "  print(f'epoch:{epoch + 1} loss: {l:.8f}')"
      ],
      "execution_count": 123,
      "outputs": [
        {
          "output_type": "stream",
          "name": "stdout",
          "text": [
            "epoch:1 loss: 0.05415845\n",
            "epoch:2 loss: 0.07108770\n",
            "epoch:3 loss: 0.05803548\n",
            "epoch:4 loss: 0.11894668\n",
            "epoch:5 loss: 0.05776159\n",
            "epoch:6 loss: 0.06567073\n",
            "epoch:7 loss: 0.04674111\n",
            "epoch:8 loss: 0.03836891\n",
            "epoch:9 loss: 0.08475675\n",
            "epoch:10 loss: 0.01181496\n"
          ]
        }
      ]
    },
    {
      "cell_type": "code",
      "metadata": {
        "colab": {
          "base_uri": "https://localhost:8080/"
        },
        "id": "4r3_4l3E4ihO",
        "outputId": "a8158fdd-bf17-497e-fb0a-c958dd63d2db"
      },
      "source": [
        "print(f'train accuracy: {accuracy(train_loader)}')\n",
        "print(f'train accuracy: {accuracy(test_loader)}')"
      ],
      "execution_count": 124,
      "outputs": [
        {
          "output_type": "stream",
          "name": "stdout",
          "text": [
            "train accuracy: 0.9935\n",
            "train accuracy: 0.9754\n"
          ]
        }
      ]
    },
    {
      "cell_type": "code",
      "metadata": {
        "id": "Xwp5pH3i4owv"
      },
      "source": [
        ""
      ],
      "execution_count": 124,
      "outputs": []
    }
  ]
}