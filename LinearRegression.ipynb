{
  "nbformat": 4,
  "nbformat_minor": 0,
  "metadata": {
    "colab": {
      "name": "LinearRegression.ipynb",
      "provenance": [],
      "authorship_tag": "ABX9TyNQMYlk9VxhpUIiZgT6YxE/",
      "include_colab_link": true
    },
    "kernelspec": {
      "name": "python3",
      "display_name": "Python 3"
    },
    "language_info": {
      "name": "python"
    }
  },
  "cells": [
    {
      "cell_type": "markdown",
      "metadata": {
        "id": "view-in-github",
        "colab_type": "text"
      },
      "source": [
        "<a href=\"https://colab.research.google.com/github/delhian/try_pytorch/blob/main/LinearRegression.ipynb\" target=\"_parent\"><img src=\"https://colab.research.google.com/assets/colab-badge.svg\" alt=\"Open In Colab\"/></a>"
      ]
    },
    {
      "cell_type": "code",
      "metadata": {
        "id": "yNv4GO66N4EE"
      },
      "source": [
        "import torch\n",
        "import torch.nn as nn\n",
        "import numpy as np\n",
        "from sklearn import datasets\n",
        "import matplotlib.pyplot as plt"
      ],
      "execution_count": 18,
      "outputs": []
    },
    {
      "cell_type": "code",
      "metadata": {
        "id": "iwZ-uhF1N5yX"
      },
      "source": [
        "X_numpy, y_numpy = datasets.make_regression(n_samples=30, n_features=1,noise=10,random_state=13)"
      ],
      "execution_count": 19,
      "outputs": []
    },
    {
      "cell_type": "code",
      "metadata": {
        "id": "rtV46LSCN7T0"
      },
      "source": [
        "\n",
        "X = torch.from_numpy(X_numpy.astype(np.float32))\n",
        "Y = torch.from_numpy(y_numpy.astype(np.float32)).unsqueeze(-1)"
      ],
      "execution_count": 20,
      "outputs": []
    },
    {
      "cell_type": "code",
      "metadata": {
        "colab": {
          "base_uri": "https://localhost:8080/"
        },
        "id": "cccvlDf2N8gZ",
        "outputId": "535ba988-4541-46f3-a2f3-74325284afe1"
      },
      "source": [
        "X.shape, Y.shape"
      ],
      "execution_count": 21,
      "outputs": [
        {
          "output_type": "execute_result",
          "data": {
            "text/plain": [
              "(torch.Size([30, 1]), torch.Size([30, 1]))"
            ]
          },
          "metadata": {},
          "execution_count": 21
        }
      ]
    },
    {
      "cell_type": "code",
      "metadata": {
        "id": "qdGw4nCOOBQK"
      },
      "source": [
        "n_samples, n_features = X.shape\n",
        "model = nn.Linear(in_features= n_features, out_features=n_features)"
      ],
      "execution_count": 22,
      "outputs": []
    },
    {
      "cell_type": "code",
      "metadata": {
        "id": "wy6tPHpnODO5"
      },
      "source": [
        "loss = nn.MSELoss()\n",
        "learning_rate = 0.05\n",
        "optimizer = torch.optim.SGD(model.parameters(), lr = learning_rate)"
      ],
      "execution_count": 23,
      "outputs": []
    },
    {
      "cell_type": "code",
      "metadata": {
        "colab": {
          "base_uri": "https://localhost:8080/"
        },
        "id": "NTFsMLi9ONRp",
        "outputId": "d0317e21-17bb-4191-d785-b081fbc96842"
      },
      "source": [
        "epoches = 100\n",
        "for epoch in range(epoches):\n",
        "  Y_predicted = model(X)\n",
        "  l = loss(Y, Y_predicted)\n",
        "  l.backward()\n",
        "  optimizer.step()\n",
        "  optimizer.zero_grad()\n",
        "  if epoch%10 == 0:\n",
        "    [w, b] = model.parameters()\n",
        "    print(f'epoch:{epoch + 1} loss: {l:.8f}')"
      ],
      "execution_count": 24,
      "outputs": [
        {
          "output_type": "stream",
          "name": "stdout",
          "text": [
            "epoch:1 loss: 5922.21289062\n",
            "epoch:11 loss: 813.91687012\n",
            "epoch:21 loss: 182.17953491\n",
            "epoch:31 loss: 91.67362213\n",
            "epoch:41 loss: 77.19928741\n",
            "epoch:51 loss: 74.72589874\n",
            "epoch:61 loss: 74.28830719\n",
            "epoch:71 loss: 74.20955658\n",
            "epoch:81 loss: 74.19529724\n",
            "epoch:91 loss: 74.19268036\n"
          ]
        }
      ]
    },
    {
      "cell_type": "code",
      "metadata": {
        "colab": {
          "base_uri": "https://localhost:8080/",
          "height": 320
        },
        "id": "4-bQdBTXOPE3",
        "outputId": "63cd975c-978a-47c7-a7b1-91d607451181"
      },
      "source": [
        "predicted = model(X).detach().numpy()\n",
        "\n",
        "plt.figure(figsize = (8, 5))\n",
        "\n",
        "plt.plot(X_numpy, y_numpy, 'go')\n",
        "plt.plot(X_numpy, predicted, 'b')\n",
        "plt.show()"
      ],
      "execution_count": 25,
      "outputs": [
        {
          "output_type": "display_data",
          "data": {
            "image/png": "[encoded data removed]",
            "text/plain": [
              "<Figure size 576x360 with 1 Axes>"
            ]
          },
          "metadata": {
            "needs_background": "light"
          }
        }
      ]
    }
  ]
}