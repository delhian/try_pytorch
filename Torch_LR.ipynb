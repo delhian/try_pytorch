{
  "nbformat": 4,
  "nbformat_minor": 0,
  "metadata": {
    "colab": {
      "name": "Torch_LR.ipynb",
      "provenance": [],
      "authorship_tag": "ABX9TyN6+KKBeKTDfTh4pb0gKG1G",
      "include_colab_link": true
    },
    "kernelspec": {
      "name": "python3",
      "display_name": "Python 3"
    },
    "language_info": {
      "name": "python"
    }
  },
  "cells": [
    {
      "cell_type": "markdown",
      "metadata": {
        "id": "view-in-github",
        "colab_type": "text"
      },
      "source": [
        "<a href=\"https://colab.research.google.com/github/delhian/try_pytorch/blob/main/Torch_LR.ipynb\" target=\"_parent\"><img src=\"https://colab.research.google.com/assets/colab-badge.svg\" alt=\"Open In Colab\"/></a>"
      ]
    },
    {
      "cell_type": "markdown",
      "metadata": {
        "id": "ITFxmm41aRDp"
      },
      "source": [
        "1) Disign model (input, output size,)\n",
        "\n",
        "2) Construct loss and optimizer\n",
        "\n",
        "3) Training loop\n",
        "\n",
        "-- forward pass: compute prediction and loss\n",
        "\n",
        "-- backward pass: calculate gradients\n",
        "\n",
        "-- update weights"
      ]
    },
    {
      "cell_type": "code",
      "metadata": {
        "id": "LmhYOFrHt3sC"
      },
      "source": [
        "import torch\n",
        "import torch.nn as nn\n",
        "import numpy as np\n",
        "from sklearn import datasets\n",
        "import matplotlib.pyplot as plt"
      ],
      "execution_count": 202,
      "outputs": []
    },
    {
      "cell_type": "code",
      "metadata": {
        "id": "UmiiM8FcbMCt"
      },
      "source": [
        "X_numpy, y_numpy = datasets.make_regression(n_samples=30, n_features=1,noise=10,random_state=13)"
      ],
      "execution_count": 203,
      "outputs": []
    },
    {
      "cell_type": "code",
      "metadata": {
        "id": "XnlNg5MTbgUS"
      },
      "source": [
        "X = torch.from_numpy(X_numpy.astype(np.float32))\n",
        "Y = torch.from_numpy(y_numpy.astype(np.float32)).unsqueeze(-1)"
      ],
      "execution_count": 204,
      "outputs": []
    },
    {
      "cell_type": "code",
      "metadata": {
        "colab": {
          "base_uri": "https://localhost:8080/"
        },
        "id": "JGfvH9JQjjJO",
        "outputId": "af9dee24-0374-4afc-af26-52ad070de917"
      },
      "source": [
        "X.shape, Y.shape"
      ],
      "execution_count": 205,
      "outputs": [
        {
          "output_type": "execute_result",
          "data": {
            "text/plain": [
              "(torch.Size([30, 1]), torch.Size([30, 1]))"
            ]
          },
          "metadata": {},
          "execution_count": 205
        }
      ]
    },
    {
      "cell_type": "code",
      "metadata": {
        "colab": {
          "base_uri": "https://localhost:8080/"
        },
        "id": "G80vv8f5jll3",
        "outputId": "e1cf5b09-6f0e-46af-896b-a92f5d154730"
      },
      "source": [
        "Y_predicted.shape"
      ],
      "execution_count": 206,
      "outputs": [
        {
          "output_type": "execute_result",
          "data": {
            "text/plain": [
              "torch.Size([3000, 1])"
            ]
          },
          "metadata": {},
          "execution_count": 206
        }
      ]
    },
    {
      "cell_type": "code",
      "metadata": {
        "id": "-_RShJkVeNPz"
      },
      "source": [
        "n_samples, n_features = X.shape\n",
        "model = nn.Linear(in_features= n_features, out_features=n_features)"
      ],
      "execution_count": 207,
      "outputs": []
    },
    {
      "cell_type": "code",
      "metadata": {
        "colab": {
          "base_uri": "https://localhost:8080/"
        },
        "id": "pE0cEV9zk5Ja",
        "outputId": "0077b447-8027-4a6b-fb90-51bdbbbcdffe"
      },
      "source": [
        "n_features"
      ],
      "execution_count": 208,
      "outputs": [
        {
          "output_type": "execute_result",
          "data": {
            "text/plain": [
              "1"
            ]
          },
          "metadata": {},
          "execution_count": 208
        }
      ]
    },
    {
      "cell_type": "code",
      "metadata": {
        "id": "ztHS1maFgbTj"
      },
      "source": [
        "loss = nn.MSELoss()\n",
        "learning_rate = 0.05\n",
        "optimizer = torch.optim.SGD(model.parameters(), lr = learning_rate)"
      ],
      "execution_count": 209,
      "outputs": []
    },
    {
      "cell_type": "code",
      "metadata": {
        "colab": {
          "base_uri": "https://localhost:8080/"
        },
        "id": "uzkMvXBuPymq",
        "outputId": "fb963587-557f-446c-e378-e633b56ac058"
      },
      "source": [
        "epoches = 100\n",
        "for epoch in range(epoches):\n",
        "  Y_predicted = model(X)\n",
        "  l = loss(Y, Y_predicted)\n",
        "  l.backward()\n",
        "  optimizer.step()\n",
        "  optimizer.zero_grad()\n",
        "  if epoch%10 == 0:\n",
        "    [w, b] = model.parameters()\n",
        "    print(f'epoch:{epoch + 1} loss: {l:.8f}')"
      ],
      "execution_count": 210,
      "outputs": [
        {
          "output_type": "stream",
          "name": "stdout",
          "text": [
            "epoch:1 loss: 5888.19433594\n",
            "epoch:11 loss: 816.90588379\n",
            "epoch:21 loss: 183.48420715\n",
            "epoch:31 loss: 91.97439575\n",
            "epoch:41 loss: 77.25936127\n",
            "epoch:51 loss: 74.73728943\n",
            "epoch:61 loss: 74.29039001\n",
            "epoch:71 loss: 74.20994568\n",
            "epoch:81 loss: 74.19535065\n",
            "epoch:91 loss: 74.19268036\n"
          ]
        }
      ]
    },
    {
      "cell_type": "code",
      "metadata": {
        "colab": {
          "base_uri": "https://localhost:8080/",
          "height": 320
        },
        "id": "fjKjEiElllXr",
        "outputId": "676ab7f6-e850-49f0-ba58-fb3e8c412ff7"
      },
      "source": [
        "predicted = model(X).detach().numpy()\n",
        "\n",
        "plt.figure(figsize = (8, 5))\n",
        "\n",
        "plt.plot(X_numpy, y_numpy, 'go')\n",
        "plt.plot(X_numpy, predicted, 'b')\n",
        "plt.show()"
      ],
      "execution_count": 211,
      "outputs": [
        {
          "output_type": "display_data",
          "data": {
            "image/png": "[encoded data removed]",
            "text/plain": [
              "<Figure size 576x360 with 1 Axes>"
            ]
          },
          "metadata": {
            "needs_background": "light"
          }
        }
      ]
    }
  ]
}