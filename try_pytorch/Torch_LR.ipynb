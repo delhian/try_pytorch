{
  "nbformat": 4,
  "nbformat_minor": 0,
  "metadata": {
    "colab": {
      "name": "Torch_LR.ipynb",
      "provenance": [],
      "authorship_tag": "ABX9TyMIBfl3GRdWTw9fGB9NgkAL",
      "include_colab_link": true
    },
    "kernelspec": {
      "name": "python3",
      "display_name": "Python 3"
    },
    "language_info": {
      "name": "python"
    }
  },
  "cells": [
    {
      "cell_type": "markdown",
      "metadata": {
        "id": "view-in-github",
        "colab_type": "text"
      },
      "source": [
        "<a href=\"https://colab.research.google.com/github/delhian/try_pytorch/blob/main/try_pytorch/Torch_LR.ipynb\" target=\"_parent\"><img src=\"https://colab.research.google.com/assets/colab-badge.svg\" alt=\"Open In Colab\"/></a>"
      ]
    },
    {
      "cell_type": "markdown",
      "metadata": {
        "id": "ITFxmm41aRDp"
      },
      "source": [
        "1) Disign model (input, output size,)\n",
        "\n",
        "2) Construct loss and optimizer\n",
        "\n",
        "3) Training loop\n",
        "\n",
        "-- forward pass: compute prediction and loss\n",
        "\n",
        "-- backward pass: calculate gradients\n",
        "\n",
        "-- update weights"
      ]
    },
    {
      "cell_type": "code",
      "metadata": {
        "id": "LmhYOFrHt3sC"
      },
      "source": [
        "import torch\n",
        "import torch.nn as nn\n",
        "import numpy as np\n",
        "from sklearn import datasets\n",
        "import matplotlib.pyplot as plt\n",
        "from sklearn.preprocessing import StandardScaler\n",
        "from sklearn.model_selection import train_test_split"
      ],
      "execution_count": 388,
      "outputs": []
    },
    {
      "cell_type": "code",
      "metadata": {
        "id": "UmiiM8FcbMCt",
        "colab": {
          "base_uri": "https://localhost:8080/"
        },
        "outputId": "385e4a3a-57c8-4d7e-cc51-108c3822ddaf"
      },
      "source": [
        "X_numpy, y_numpy = datasets.make_classification(n_classes=2, n_samples=300, n_features=2, n_redundant=0, n_informative=2)\n",
        "print(X_numpy.shape, y_numpy.shape)"
      ],
      "execution_count": 389,
      "outputs": [
        {
          "output_type": "stream",
          "name": "stdout",
          "text": [
            "(300, 2) (300,)\n"
          ]
        }
      ]
    },
    {
      "cell_type": "code",
      "metadata": {
        "colab": {
          "base_uri": "https://localhost:8080/"
        },
        "id": "3zRpRsYzmkoF",
        "outputId": "105b8f63-90ed-4012-aafc-64f2efd85097"
      },
      "source": [
        "X_numpy_train, X_numpy_test, y_numpy_train, y_numpy_test = train_test_split(X_numpy, y_numpy)\n",
        "ss = StandardScaler()\n",
        "X_numpy_train = ss.fit_transform(X_numpy_train)\n",
        "X_numpy_test = ss.transform(X_numpy_test)\n",
        "print(X_numpy_train.shape, X_numpy_test.shape, y_numpy_train.shape, y_numpy_test.shape)"
      ],
      "execution_count": 390,
      "outputs": [
        {
          "output_type": "stream",
          "name": "stdout",
          "text": [
            "(225, 2) (75, 2) (225,) (75,)\n"
          ]
        }
      ]
    },
    {
      "cell_type": "code",
      "metadata": {
        "id": "XnlNg5MTbgUS",
        "colab": {
          "base_uri": "https://localhost:8080/"
        },
        "outputId": "91e2837e-dc3e-447e-8d6d-8ead4c2c2328"
      },
      "source": [
        "X_train = torch.from_numpy(X_numpy_train.astype(np.float32))\n",
        "X_test = torch.from_numpy(X_numpy_test.astype(np.float32))\n",
        "Y_train = torch.from_numpy(y_numpy_train.astype(np.float32)).unsqueeze(-1)\n",
        "Y_test = torch.from_numpy(y_numpy_test.astype(np.float32)).unsqueeze(-1)\n",
        "print(X_train.shape, X_test.shape, Y_train.shape, Y_test.shape)"
      ],
      "execution_count": 391,
      "outputs": [
        {
          "output_type": "stream",
          "name": "stdout",
          "text": [
            "torch.Size([225, 2]) torch.Size([75, 2]) torch.Size([225, 1]) torch.Size([75, 1])\n"
          ]
        }
      ]
    },
    {
      "cell_type": "code",
      "metadata": {
        "id": "-_RShJkVeNPz",
        "colab": {
          "base_uri": "https://localhost:8080/"
        },
        "outputId": "f13c444a-3c9b-4a5b-8255-abcae269772e"
      },
      "source": [
        "n_samples, n_features = X_train.shape\n",
        "print(f'n_samples: {n_samples},\\nn_features: {n_features}')\n"
      ],
      "execution_count": 392,
      "outputs": [
        {
          "output_type": "stream",
          "name": "stdout",
          "text": [
            "n_samples: 225,\n",
            "n_features: 2\n"
          ]
        }
      ]
    },
    {
      "cell_type": "code",
      "metadata": {
        "id": "jZs-A81_raQe"
      },
      "source": [
        "class LogisticRegression(nn.Module):\n",
        "  def __init__(self, n_input_features):\n",
        "    super().__init__()\n",
        "    self.linear = nn.Linear(n_input_features, 1)\n",
        "  def forward(self, x):\n",
        "    y_predicted = torch.sigmoid(self.linear(x))\n",
        "    return y_predicted"
      ],
      "execution_count": 393,
      "outputs": []
    },
    {
      "cell_type": "code",
      "metadata": {
        "id": "dHr7L79kozJZ"
      },
      "source": [
        "model = LogisticRegression(n_features)"
      ],
      "execution_count": 394,
      "outputs": []
    },
    {
      "cell_type": "code",
      "metadata": {
        "id": "ztHS1maFgbTj"
      },
      "source": [
        "loss = nn.BCELoss()\n",
        "learning_rate = 1\n",
        "optimizer = torch.optim.SGD(model.parameters(), lr = learning_rate)"
      ],
      "execution_count": 395,
      "outputs": []
    },
    {
      "cell_type": "code",
      "metadata": {
        "colab": {
          "base_uri": "https://localhost:8080/"
        },
        "id": "uzkMvXBuPymq",
        "outputId": "ec2d85b5-d6da-4a82-d595-97a2da37255c"
      },
      "source": [
        "epoches = 100\n",
        "for epoch in range(epoches):\n",
        "  Y_predicted = model(X_train)\n",
        "  l = loss(Y_predicted, Y_train)\n",
        "  l.backward()\n",
        "  optimizer.step()\n",
        "  optimizer.zero_grad()\n",
        "  if epoch%10 == 0:\n",
        "    [w, b] = model.parameters()\n",
        "    print(f'epoch:{epoch + 1} loss: {l:.8f}')"
      ],
      "execution_count": 396,
      "outputs": [
        {
          "output_type": "stream",
          "name": "stdout",
          "text": [
            "epoch:1 loss: 0.52369803\n",
            "epoch:11 loss: 0.34821492\n",
            "epoch:21 loss: 0.32609686\n",
            "epoch:31 loss: 0.31836903\n",
            "epoch:41 loss: 0.31491071\n",
            "epoch:51 loss: 0.31316996\n",
            "epoch:61 loss: 0.31223109\n",
            "epoch:71 loss: 0.31170148\n",
            "epoch:81 loss: 0.31139335\n",
            "epoch:91 loss: 0.31121013\n"
          ]
        }
      ]
    },
    {
      "cell_type": "code",
      "metadata": {
        "colab": {
          "base_uri": "https://localhost:8080/"
        },
        "id": "MdylCqPZu9LI",
        "outputId": "32b0694a-fa19-4a18-8e4e-7ac5f61c6888"
      },
      "source": [
        "with torch.no_grad():\n",
        "  y_predicted = model(X_test)\n",
        "  y_predicted = y_predicted.round()\n",
        "  acc = y_predicted.eq(Y_test).sum()/float(Y_test.shape[0])\n",
        "  print(acc)"
      ],
      "execution_count": 397,
      "outputs": [
        {
          "output_type": "stream",
          "name": "stdout",
          "text": [
            "tensor(0.8667)\n"
          ]
        }
      ]
    },
    {
      "cell_type": "code",
      "metadata": {
        "colab": {
          "base_uri": "https://localhost:8080/"
        },
        "id": "Q8v6I9OgDRKY",
        "outputId": "4c3185e9-6643-43eb-8383-86ef52245474"
      },
      "source": [
        "with torch.no_grad():\n",
        "  y_predicted = model(X_train).round()\n",
        "  acc = y_predicted.eq(Y_train).sum()/float(Y_train.shape[0])\n",
        "  print(acc)"
      ],
      "execution_count": 398,
      "outputs": [
        {
          "output_type": "stream",
          "name": "stdout",
          "text": [
            "tensor(0.8756)\n"
          ]
        }
      ]
    },
    {
      "cell_type": "code",
      "metadata": {
        "id": "U2RQkXGnFHov"
      },
      "source": [
        ""
      ],
      "execution_count": 398,
      "outputs": []
    }
  ]
}